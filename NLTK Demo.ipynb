{
 "cells": [
  {
   "cell_type": "code",
   "execution_count": 1,
   "metadata": {},
   "outputs": [],
   "source": [
    "# make sure to import nltk \n",
    "import nltk\n",
    "from nltk.corpus import stopwords\n",
    "\n",
    "sentence = \"The IKEA catalog is the most widely printed book in history!\""
   ]
  },
  {
   "cell_type": "code",
   "execution_count": 2,
   "metadata": {},
   "outputs": [
    {
     "data": {
      "text/plain": [
       "['The',\n",
       " 'IKEA',\n",
       " 'catalog',\n",
       " 'is',\n",
       " 'the',\n",
       " 'most',\n",
       " 'widely',\n",
       " 'printed',\n",
       " 'book',\n",
       " 'in',\n",
       " 'history!']"
      ]
     },
     "execution_count": 2,
     "metadata": {},
     "output_type": "execute_result"
    }
   ],
   "source": [
    "# tokanization by whitespace\n",
    "tokenizer = nltk.tokenize.WhitespaceTokenizer()\n",
    "tokens = tokenizer.tokenize(sentence)\n",
    "tokens"
   ]
  },
  {
   "cell_type": "code",
   "execution_count": 3,
   "metadata": {},
   "outputs": [
    {
     "data": {
      "text/plain": [
       "['The',\n",
       " 'IKEA',\n",
       " 'catalog',\n",
       " 'is',\n",
       " 'the',\n",
       " 'most',\n",
       " 'widely',\n",
       " 'printed',\n",
       " 'book',\n",
       " 'in',\n",
       " 'history',\n",
       " '!']"
      ]
     },
     "execution_count": 3,
     "metadata": {},
     "output_type": "execute_result"
    }
   ],
   "source": [
    "# tokenize by whitespace and punctuation \n",
    "tokenizer = nltk.tokenize.TreebankWordTokenizer()\n",
    "tokenizer.tokenize(sentence)"
   ]
  },
  {
   "cell_type": "code",
   "execution_count": 4,
   "metadata": {},
   "outputs": [
    {
     "data": {
      "text/plain": [
       "'the ikea catalog is the most wide print book in history!'"
      ]
     },
     "execution_count": 4,
     "metadata": {},
     "output_type": "execute_result"
    }
   ],
   "source": [
    "# stemming each word in the sentence above\n",
    "stemmer = nltk.stem.PorterStemmer()\n",
    "\" \".join(stemmer.stem(token) for token in tokens)\n",
    "\n",
    "# notice that widely and printed were reduced to wide and print - doesn't make much sense in the context of the sentence!"
   ]
  },
  {
   "cell_type": "code",
   "execution_count": 5,
   "metadata": {},
   "outputs": [
    {
     "data": {
      "text/plain": [
       "'The IKEA catalog is the most widely printed book in history!'"
      ]
     },
     "execution_count": 5,
     "metadata": {},
     "output_type": "execute_result"
    }
   ],
   "source": [
    "# lemmatization on the same sentence \n",
    "stemmer = nltk.stem.WordNetLemmatizer()\n",
    "\" \".join(stemmer.lemmatize(token) for token in tokens)\n",
    "\n",
    "# in contrary to stemming, the lemmatized version kept each word in its original form"
   ]
  },
  {
   "cell_type": "code",
   "execution_count": 6,
   "metadata": {},
   "outputs": [
    {
     "data": {
      "text/plain": [
       "['The', 'IKEA', 'catalog', 'widely', 'printed', 'book', 'history!']"
      ]
     },
     "execution_count": 6,
     "metadata": {},
     "output_type": "execute_result"
    }
   ],
   "source": [
    "# stop word removal \n",
    "\n",
    "# load english language stopwords\n",
    "stop_words = set(stopwords.words('english')) \n",
    "\n",
    "# remove stop words from token list using list comprehension\n",
    "filtered_sentence = [t for t in tokens if not t in stop_words] \n",
    "filtered_sentence"
   ]
  }
 ],
 "metadata": {
  "kernelspec": {
   "display_name": "Python 3",
   "language": "python",
   "name": "python3"
  },
  "language_info": {
   "codemirror_mode": {
    "name": "ipython",
    "version": 3
   },
   "file_extension": ".py",
   "mimetype": "text/x-python",
   "name": "python",
   "nbconvert_exporter": "python",
   "pygments_lexer": "ipython3",
   "version": "3.7.0"
  }
 },
 "nbformat": 4,
 "nbformat_minor": 2
}
